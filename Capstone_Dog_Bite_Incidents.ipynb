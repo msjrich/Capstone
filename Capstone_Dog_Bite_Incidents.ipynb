{
  "nbformat": 4,
  "nbformat_minor": 0,
  "metadata": {
    "colab": {
      "name": "Capstone_Dog Bite Incidents",
      "provenance": []
    },
    "kernelspec": {
      "name": "python3",
      "display_name": "Python 3"
    },
    "language_info": {
      "name": "python"
    }
  },
  "cells": [
    {
      "cell_type": "code",
      "metadata": {
        "id": "2_PJEa4RYoXK"
      },
      "source": [
        "import pandas as pd\n",
        "import seaborn as sns\n",
        "import numpy as np\n",
        "import matplotlib.pyplot as plot\n",
        "%matplotlib inline"
      ],
      "execution_count": 1,
      "outputs": []
    },
    {
      "cell_type": "code",
      "metadata": {
        "id": "UzBIB_3HY6y-"
      },
      "source": [
        "df = pd.read_csv('/content/DOHMH_Dog_Bite_Data.csv')"
      ],
      "execution_count": 2,
      "outputs": []
    },
    {
      "cell_type": "code",
      "metadata": {
        "colab": {
          "base_uri": "https://localhost:8080/",
          "height": 419
        },
        "id": "GXV7IQzweZSo",
        "outputId": "81debed8-bf45-491e-c86f-1085b49d2f96"
      },
      "source": [
        "df"
      ],
      "execution_count": null,
      "outputs": [
        {
          "output_type": "execute_result",
          "data": {
            "text/html": [
              "<div>\n",
              "<style scoped>\n",
              "    .dataframe tbody tr th:only-of-type {\n",
              "        vertical-align: middle;\n",
              "    }\n",
              "\n",
              "    .dataframe tbody tr th {\n",
              "        vertical-align: top;\n",
              "    }\n",
              "\n",
              "    .dataframe thead th {\n",
              "        text-align: right;\n",
              "    }\n",
              "</style>\n",
              "<table border=\"1\" class=\"dataframe\">\n",
              "  <thead>\n",
              "    <tr style=\"text-align: right;\">\n",
              "      <th></th>\n",
              "      <th>UniqueID</th>\n",
              "      <th>DateOfBite</th>\n",
              "      <th>Species</th>\n",
              "      <th>Breed</th>\n",
              "      <th>Age</th>\n",
              "      <th>Gender</th>\n",
              "      <th>SpayNeuter</th>\n",
              "      <th>Borough</th>\n",
              "      <th>ZipCode</th>\n",
              "    </tr>\n",
              "  </thead>\n",
              "  <tbody>\n",
              "    <tr>\n",
              "      <th>0</th>\n",
              "      <td>1</td>\n",
              "      <td>January 02 2015</td>\n",
              "      <td>DOG</td>\n",
              "      <td>Poodle, Standard</td>\n",
              "      <td>3</td>\n",
              "      <td>M</td>\n",
              "      <td>True</td>\n",
              "      <td>Brooklyn</td>\n",
              "      <td>11238</td>\n",
              "    </tr>\n",
              "    <tr>\n",
              "      <th>1</th>\n",
              "      <td>2</td>\n",
              "      <td>January 02 2015</td>\n",
              "      <td>DOG</td>\n",
              "      <td>HUSKY</td>\n",
              "      <td>NaN</td>\n",
              "      <td>U</td>\n",
              "      <td>False</td>\n",
              "      <td>Brooklyn</td>\n",
              "      <td>11249</td>\n",
              "    </tr>\n",
              "    <tr>\n",
              "      <th>2</th>\n",
              "      <td>3</td>\n",
              "      <td>January 02 2015</td>\n",
              "      <td>DOG</td>\n",
              "      <td>NaN</td>\n",
              "      <td>NaN</td>\n",
              "      <td>U</td>\n",
              "      <td>False</td>\n",
              "      <td>Brooklyn</td>\n",
              "      <td>NaN</td>\n",
              "    </tr>\n",
              "    <tr>\n",
              "      <th>3</th>\n",
              "      <td>4</td>\n",
              "      <td>January 01 2015</td>\n",
              "      <td>DOG</td>\n",
              "      <td>American Pit Bull Terrier/Pit Bull</td>\n",
              "      <td>6</td>\n",
              "      <td>M</td>\n",
              "      <td>False</td>\n",
              "      <td>Brooklyn</td>\n",
              "      <td>11221</td>\n",
              "    </tr>\n",
              "    <tr>\n",
              "      <th>4</th>\n",
              "      <td>5</td>\n",
              "      <td>January 03 2015</td>\n",
              "      <td>DOG</td>\n",
              "      <td>American Pit Bull Terrier/Pit Bull</td>\n",
              "      <td>1</td>\n",
              "      <td>M</td>\n",
              "      <td>False</td>\n",
              "      <td>Brooklyn</td>\n",
              "      <td>11207</td>\n",
              "    </tr>\n",
              "    <tr>\n",
              "      <th>...</th>\n",
              "      <td>...</td>\n",
              "      <td>...</td>\n",
              "      <td>...</td>\n",
              "      <td>...</td>\n",
              "      <td>...</td>\n",
              "      <td>...</td>\n",
              "      <td>...</td>\n",
              "      <td>...</td>\n",
              "      <td>...</td>\n",
              "    </tr>\n",
              "    <tr>\n",
              "      <th>10275</th>\n",
              "      <td>10,276</td>\n",
              "      <td>December 24 2017</td>\n",
              "      <td>DOG</td>\n",
              "      <td>CHIWEENIE MIX</td>\n",
              "      <td>7</td>\n",
              "      <td>M</td>\n",
              "      <td>True</td>\n",
              "      <td>Staten Island</td>\n",
              "      <td>10303</td>\n",
              "    </tr>\n",
              "    <tr>\n",
              "      <th>10276</th>\n",
              "      <td>10,277</td>\n",
              "      <td>December 24 2017</td>\n",
              "      <td>DOG</td>\n",
              "      <td>DUNKER</td>\n",
              "      <td>5</td>\n",
              "      <td>F</td>\n",
              "      <td>True</td>\n",
              "      <td>Staten Island</td>\n",
              "      <td>10303</td>\n",
              "    </tr>\n",
              "    <tr>\n",
              "      <th>10277</th>\n",
              "      <td>10,278</td>\n",
              "      <td>December 21 2017</td>\n",
              "      <td>DOG</td>\n",
              "      <td>Schnauzer, Miniature</td>\n",
              "      <td>10M</td>\n",
              "      <td>M</td>\n",
              "      <td>True</td>\n",
              "      <td>Staten Island</td>\n",
              "      <td>10312</td>\n",
              "    </tr>\n",
              "    <tr>\n",
              "      <th>10278</th>\n",
              "      <td>10,279</td>\n",
              "      <td>December 28 2017</td>\n",
              "      <td>DOG</td>\n",
              "      <td>Mixed/Other</td>\n",
              "      <td>NaN</td>\n",
              "      <td>F</td>\n",
              "      <td>False</td>\n",
              "      <td>Staten Island</td>\n",
              "      <td>10308</td>\n",
              "    </tr>\n",
              "    <tr>\n",
              "      <th>10279</th>\n",
              "      <td>10,280</td>\n",
              "      <td>December 29 2017</td>\n",
              "      <td>DOG</td>\n",
              "      <td>BOXER/PIT BULL</td>\n",
              "      <td>NaN</td>\n",
              "      <td>M</td>\n",
              "      <td>False</td>\n",
              "      <td>Staten Island</td>\n",
              "      <td>10314</td>\n",
              "    </tr>\n",
              "  </tbody>\n",
              "</table>\n",
              "<p>10280 rows × 9 columns</p>\n",
              "</div>"
            ],
            "text/plain": [
              "      UniqueID        DateOfBite Species  ... SpayNeuter        Borough ZipCode\n",
              "0            1   January 02 2015     DOG  ...       True       Brooklyn   11238\n",
              "1            2   January 02 2015     DOG  ...      False       Brooklyn   11249\n",
              "2            3   January 02 2015     DOG  ...      False       Brooklyn     NaN\n",
              "3            4   January 01 2015     DOG  ...      False       Brooklyn   11221\n",
              "4            5   January 03 2015     DOG  ...      False       Brooklyn   11207\n",
              "...        ...               ...     ...  ...        ...            ...     ...\n",
              "10275   10,276  December 24 2017     DOG  ...       True  Staten Island   10303\n",
              "10276   10,277  December 24 2017     DOG  ...       True  Staten Island   10303\n",
              "10277   10,278  December 21 2017     DOG  ...       True  Staten Island   10312\n",
              "10278   10,279  December 28 2017     DOG  ...      False  Staten Island   10308\n",
              "10279   10,280  December 29 2017     DOG  ...      False  Staten Island   10314\n",
              "\n",
              "[10280 rows x 9 columns]"
            ]
          },
          "metadata": {
            "tags": []
          },
          "execution_count": 9
        }
      ]
    },
    {
      "cell_type": "code",
      "metadata": {
        "colab": {
          "base_uri": "https://localhost:8080/"
        },
        "id": "oFFLgVjWehhm",
        "outputId": "eb9b6c1f-2e06-4205-e90e-f85e811ae18b"
      },
      "source": [
        "#Finding empty values in columns\n",
        "df.isnull().sum()"
      ],
      "execution_count": null,
      "outputs": [
        {
          "output_type": "execute_result",
          "data": {
            "text/plain": [
              "UniqueID         0\n",
              "DateOfBite       0\n",
              "Species          0\n",
              "Breed         1588\n",
              "Age           4746\n",
              "Gender           0\n",
              "SpayNeuter       0\n",
              "Borough          0\n",
              "ZipCode       2667\n",
              "dtype: int64"
            ]
          },
          "metadata": {
            "tags": []
          },
          "execution_count": 11
        }
      ]
    },
    {
      "cell_type": "code",
      "metadata": {
        "id": "0qoyGfrmfuQ6"
      },
      "source": [
        "#Filling in empty values\n",
        "df['Breed'].fillna(\"Undetermined\", inplace=True)\n",
        "df['Age'] = df['Age'].fillna(00)\n",
        "df['ZipCode'].fillna(\"00000\", inplace=True)"
      ],
      "execution_count": null,
      "outputs": []
    },
    {
      "cell_type": "code",
      "metadata": {
        "colab": {
          "base_uri": "https://localhost:8080/"
        },
        "id": "8LJMqgiyjaal",
        "outputId": "c2b0c92b-7d85-4bd2-d5ad-7b6b8d99dd8f"
      },
      "source": [
        "#Running again to ensure columns are filled in\n",
        "df.isnull().sum()"
      ],
      "execution_count": null,
      "outputs": [
        {
          "output_type": "execute_result",
          "data": {
            "text/plain": [
              "UniqueID      0\n",
              "DateOfBite    0\n",
              "Species       0\n",
              "Breed         0\n",
              "Age           0\n",
              "Gender        0\n",
              "SpayNeuter    0\n",
              "Borough       0\n",
              "ZipCode       0\n",
              "dtype: int64"
            ]
          },
          "metadata": {
            "tags": []
          },
          "execution_count": 7
        }
      ]
    },
    {
      "cell_type": "code",
      "metadata": {
        "colab": {
          "base_uri": "https://localhost:8080/"
        },
        "id": "hWnFTU3vfhCO",
        "outputId": "c85717a2-47fb-493b-8ba4-92c04149f702"
      },
      "source": [
        "#Deciphering datatypes by column\n",
        "df.dtypes"
      ],
      "execution_count": null,
      "outputs": [
        {
          "output_type": "execute_result",
          "data": {
            "text/plain": [
              "UniqueID      object\n",
              "DateOfBite    object\n",
              "Species       object\n",
              "Breed         object\n",
              "Age           object\n",
              "Gender        object\n",
              "SpayNeuter      bool\n",
              "Borough       object\n",
              "ZipCode       object\n",
              "dtype: object"
            ]
          },
          "metadata": {
            "tags": []
          },
          "execution_count": 12
        }
      ]
    },
    {
      "cell_type": "code",
      "metadata": {
        "colab": {
          "base_uri": "https://localhost:8080/",
          "height": 289
        },
        "id": "X14gEHPEluWl",
        "outputId": "8fc1c157-4403-419b-cfb4-7450bcba9d7d"
      },
      "source": [
        "#Dropping an unnecessary column\n",
        "df.drop(columns=['Species'], inplace=True)\n",
        "df.head()"
      ],
      "execution_count": null,
      "outputs": [
        {
          "output_type": "execute_result",
          "data": {
            "text/html": [
              "<div>\n",
              "<style scoped>\n",
              "    .dataframe tbody tr th:only-of-type {\n",
              "        vertical-align: middle;\n",
              "    }\n",
              "\n",
              "    .dataframe tbody tr th {\n",
              "        vertical-align: top;\n",
              "    }\n",
              "\n",
              "    .dataframe thead th {\n",
              "        text-align: right;\n",
              "    }\n",
              "</style>\n",
              "<table border=\"1\" class=\"dataframe\">\n",
              "  <thead>\n",
              "    <tr style=\"text-align: right;\">\n",
              "      <th></th>\n",
              "      <th>UniqueID</th>\n",
              "      <th>DateOfBite</th>\n",
              "      <th>Breed</th>\n",
              "      <th>Age</th>\n",
              "      <th>Gender</th>\n",
              "      <th>SpayNeuter</th>\n",
              "      <th>Borough</th>\n",
              "      <th>ZipCode</th>\n",
              "    </tr>\n",
              "  </thead>\n",
              "  <tbody>\n",
              "    <tr>\n",
              "      <th>0</th>\n",
              "      <td>1</td>\n",
              "      <td>January 02 2015</td>\n",
              "      <td>Poodle, Standard</td>\n",
              "      <td>3</td>\n",
              "      <td>M</td>\n",
              "      <td>True</td>\n",
              "      <td>Brooklyn</td>\n",
              "      <td>11238</td>\n",
              "    </tr>\n",
              "    <tr>\n",
              "      <th>1</th>\n",
              "      <td>2</td>\n",
              "      <td>January 02 2015</td>\n",
              "      <td>HUSKY</td>\n",
              "      <td>NaN</td>\n",
              "      <td>U</td>\n",
              "      <td>False</td>\n",
              "      <td>Brooklyn</td>\n",
              "      <td>11249</td>\n",
              "    </tr>\n",
              "    <tr>\n",
              "      <th>2</th>\n",
              "      <td>3</td>\n",
              "      <td>January 02 2015</td>\n",
              "      <td>NaN</td>\n",
              "      <td>NaN</td>\n",
              "      <td>U</td>\n",
              "      <td>False</td>\n",
              "      <td>Brooklyn</td>\n",
              "      <td>NaN</td>\n",
              "    </tr>\n",
              "    <tr>\n",
              "      <th>3</th>\n",
              "      <td>4</td>\n",
              "      <td>January 01 2015</td>\n",
              "      <td>American Pit Bull Terrier/Pit Bull</td>\n",
              "      <td>6</td>\n",
              "      <td>M</td>\n",
              "      <td>False</td>\n",
              "      <td>Brooklyn</td>\n",
              "      <td>11221</td>\n",
              "    </tr>\n",
              "    <tr>\n",
              "      <th>4</th>\n",
              "      <td>5</td>\n",
              "      <td>January 03 2015</td>\n",
              "      <td>American Pit Bull Terrier/Pit Bull</td>\n",
              "      <td>1</td>\n",
              "      <td>M</td>\n",
              "      <td>False</td>\n",
              "      <td>Brooklyn</td>\n",
              "      <td>11207</td>\n",
              "    </tr>\n",
              "  </tbody>\n",
              "</table>\n",
              "</div>"
            ],
            "text/plain": [
              "  UniqueID       DateOfBite  ...   Borough ZipCode\n",
              "0        1  January 02 2015  ...  Brooklyn   11238\n",
              "1        2  January 02 2015  ...  Brooklyn   11249\n",
              "2        3  January 02 2015  ...  Brooklyn     NaN\n",
              "3        4  January 01 2015  ...  Brooklyn   11221\n",
              "4        5  January 03 2015  ...  Brooklyn   11207\n",
              "\n",
              "[5 rows x 8 columns]"
            ]
          },
          "metadata": {
            "tags": []
          },
          "execution_count": 54
        }
      ]
    },
    {
      "cell_type": "code",
      "metadata": {
        "colab": {
          "base_uri": "https://localhost:8080/"
        },
        "id": "dM5Lc5SZfnMV",
        "outputId": "df4552cd-54aa-4d0e-d451-a52ba7fd585c"
      },
      "source": [
        "#Determining the size of the dataset\n",
        "df.count()"
      ],
      "execution_count": null,
      "outputs": [
        {
          "output_type": "execute_result",
          "data": {
            "text/plain": [
              "UniqueID      10280\n",
              "DateOfBite    10280\n",
              "Breed         10280\n",
              "Age           10280\n",
              "Gender        10280\n",
              "SpayNeuter    10280\n",
              "Borough       10280\n",
              "ZipCode       10280\n",
              "dtype: int64"
            ]
          },
          "metadata": {
            "tags": []
          },
          "execution_count": 11
        }
      ]
    },
    {
      "cell_type": "code",
      "metadata": {
        "colab": {
          "base_uri": "https://localhost:8080/",
          "height": 296
        },
        "id": "VMYcSipNHgjs",
        "outputId": "39f35fae-093e-4705-de33-71cae6ad76f0"
      },
      "source": [
        "#Finding number of cases unique to each borough in ascending order\n",
        "df.groupby(['Borough'])['UniqueID'].count().sort_values(ascending=True).plot(kind='line')"
      ],
      "execution_count": null,
      "outputs": [
        {
          "output_type": "execute_result",
          "data": {
            "text/plain": [
              "<matplotlib.axes._subplots.AxesSubplot at 0x7fe01185af50>"
            ]
          },
          "metadata": {
            "tags": []
          },
          "execution_count": 31
        },
        {
          "output_type": "display_data",
          "data": {
            "image/png": "[encoded data removed]",
            "text/plain": [
              "<Figure size 432x288 with 1 Axes>"
            ]
          },
          "metadata": {
            "tags": [],
            "needs_background": "light"
          }
        }
      ]
    },
    {
      "cell_type": "code",
      "metadata": {
        "colab": {
          "base_uri": "https://localhost:8080/"
        },
        "id": "vTeU4AdKKeIG",
        "outputId": "efd96cd4-a28d-48b8-fa75-30b20175339a"
      },
      "source": [
        "#Identifying how many dogs were spayed/neutered in attacks to those who were not\n",
        "df.groupby(['SpayNeuter'])['UniqueID'].count()"
      ],
      "execution_count": null,
      "outputs": [
        {
          "output_type": "execute_result",
          "data": {
            "text/plain": [
              "SpayNeuter\n",
              "False    7289\n",
              "True     2991\n",
              "Name: UniqueID, dtype: int64"
            ]
          },
          "metadata": {
            "tags": []
          },
          "execution_count": 37
        }
      ]
    },
    {
      "cell_type": "code",
      "metadata": {
        "colab": {
          "base_uri": "https://localhost:8080/",
          "height": 265
        },
        "id": "YGXjjaPLvxoE",
        "outputId": "a7dc7c83-588e-4cc1-86df-b921b796c5eb"
      },
      "source": [
        "#Visualizing the above data\n",
        "df.groupby(['SpayNeuter'])['UniqueID'].count().plot(kind='pie')"
      ],
      "execution_count": null,
      "outputs": [
        {
          "output_type": "execute_result",
          "data": {
            "text/plain": [
              "<matplotlib.axes._subplots.AxesSubplot at 0x7fe0119295d0>"
            ]
          },
          "metadata": {
            "tags": []
          },
          "execution_count": 40
        },
        {
          "output_type": "display_data",
          "data": {
            "image/png": "[encoded data removed]",
            "text/plain": [
              "<Figure size 432x288 with 1 Axes>"
            ]
          },
          "metadata": {
            "tags": []
          }
        }
      ]
    },
    {
      "cell_type": "code",
      "metadata": {
        "colab": {
          "base_uri": "https://localhost:8080/"
        },
        "id": "iWeIW_zx5Q0x",
        "outputId": "f709a197-aa6e-4903-8a45-8780e4bbef50"
      },
      "source": [
        "#Grouping unique cases by gender of dog\n",
        "df.groupby(['Gender'])['UniqueID'].count()"
      ],
      "execution_count": null,
      "outputs": [
        {
          "output_type": "execute_result",
          "data": {
            "text/plain": [
              "Gender\n",
              "F    1629\n",
              "M    4203\n",
              "U    4448\n",
              "Name: UniqueID, dtype: int64"
            ]
          },
          "metadata": {
            "tags": []
          },
          "execution_count": 62
        }
      ]
    },
    {
      "cell_type": "code",
      "metadata": {
        "colab": {
          "base_uri": "https://localhost:8080/",
          "height": 282
        },
        "id": "D7lOF7xL5HgK",
        "outputId": "c7dfe2c6-f3db-475e-c478-3dcaf1580e28"
      },
      "source": [
        "#Visualizing gender grouping\n",
        "df.groupby(['Gender'])['UniqueID'].count().plot(kind='barh')"
      ],
      "execution_count": null,
      "outputs": [
        {
          "output_type": "execute_result",
          "data": {
            "text/plain": [
              "<matplotlib.axes._subplots.AxesSubplot at 0x7fe01152bad0>"
            ]
          },
          "metadata": {
            "tags": []
          },
          "execution_count": 65
        },
        {
          "output_type": "display_data",
          "data": {
            "image/png": "[encoded data removed]",
            "text/plain": [
              "<Figure size 432x288 with 1 Axes>"
            ]
          },
          "metadata": {
            "tags": [],
            "needs_background": "light"
          }
        }
      ]
    },
    {
      "cell_type": "code",
      "metadata": {
        "colab": {
          "base_uri": "https://localhost:8080/"
        },
        "id": "86daBYUi61Vb",
        "outputId": "f9b79c96-df58-491a-a7d1-0c0229d9e8d0"
      },
      "source": [
        "#Identifying the dog breeds indicated in attacks to find the most popular breeds\n",
        "dog_types=df['Breed'].value_counts()\n",
        "dog_types"
      ],
      "execution_count": null,
      "outputs": [
        {
          "output_type": "execute_result",
          "data": {
            "text/plain": [
              "Pit Bull                                1921\n",
              "Shih Tzu                                 364\n",
              "American Pit Bull Terrier/Pit Bull       349\n",
              "Chihuahua                                344\n",
              "American Pit Bull Mix / Pit Bull Mix     340\n",
              "                                        ... \n",
              "POODLE OR DALMATION                        1\n",
              "PUG / JACK RUSS MIX                        1\n",
              "MALTESE/ YORKSHIRE TERRIER                 1\n",
              "COOKAPOO                                   1\n",
              "SHEPHERED MIX                              1\n",
              "Name: Breed, Length: 1032, dtype: int64"
            ]
          },
          "metadata": {
            "tags": []
          },
          "execution_count": 98
        }
      ]
    },
    {
      "cell_type": "code",
      "metadata": {
        "colab": {
          "base_uri": "https://localhost:8080/",
          "height": 589
        },
        "id": "CvStnQwb-0Xb",
        "outputId": "920fd435-87c4-4af4-84a9-68af6195e531"
      },
      "source": [
        "#Creating a secondary dataset with the top five identified breeds\n",
        "df_top = df[df['Breed'].isin(['Pit Bull', 'Shih Tzu', 'American Pit Bull Terrier/Pit Bull', 'Chihuahua', 'American Pit Bull Mix / Pit Bull Mix'])]\n",
        "display(df_top)"
      ],
      "execution_count": null,
      "outputs": [
        {
          "output_type": "display_data",
          "data": {
            "text/html": [
              "<div>\n",
              "<style scoped>\n",
              "    .dataframe tbody tr th:only-of-type {\n",
              "        vertical-align: middle;\n",
              "    }\n",
              "\n",
              "    .dataframe tbody tr th {\n",
              "        vertical-align: top;\n",
              "    }\n",
              "\n",
              "    .dataframe thead th {\n",
              "        text-align: right;\n",
              "    }\n",
              "</style>\n",
              "<table border=\"1\" class=\"dataframe\">\n",
              "  <thead>\n",
              "    <tr style=\"text-align: right;\">\n",
              "      <th></th>\n",
              "      <th>UniqueID</th>\n",
              "      <th>DateOfBite</th>\n",
              "      <th>Breed</th>\n",
              "      <th>Age</th>\n",
              "      <th>Gender</th>\n",
              "      <th>SpayNeuter</th>\n",
              "      <th>Borough</th>\n",
              "      <th>ZipCode</th>\n",
              "    </tr>\n",
              "  </thead>\n",
              "  <tbody>\n",
              "    <tr>\n",
              "      <th>3</th>\n",
              "      <td>4</td>\n",
              "      <td>January 01 2015</td>\n",
              "      <td>American Pit Bull Terrier/Pit Bull</td>\n",
              "      <td>6</td>\n",
              "      <td>M</td>\n",
              "      <td>False</td>\n",
              "      <td>Brooklyn</td>\n",
              "      <td>11221</td>\n",
              "    </tr>\n",
              "    <tr>\n",
              "      <th>4</th>\n",
              "      <td>5</td>\n",
              "      <td>January 03 2015</td>\n",
              "      <td>American Pit Bull Terrier/Pit Bull</td>\n",
              "      <td>1</td>\n",
              "      <td>M</td>\n",
              "      <td>False</td>\n",
              "      <td>Brooklyn</td>\n",
              "      <td>11207</td>\n",
              "    </tr>\n",
              "    <tr>\n",
              "      <th>5</th>\n",
              "      <td>6</td>\n",
              "      <td>January 05 2015</td>\n",
              "      <td>American Pit Bull Terrier/Pit Bull</td>\n",
              "      <td>1</td>\n",
              "      <td>F</td>\n",
              "      <td>False</td>\n",
              "      <td>Brooklyn</td>\n",
              "      <td>11209</td>\n",
              "    </tr>\n",
              "    <tr>\n",
              "      <th>7</th>\n",
              "      <td>8</td>\n",
              "      <td>January 05 2015</td>\n",
              "      <td>Chihuahua</td>\n",
              "      <td>1</td>\n",
              "      <td>M</td>\n",
              "      <td>False</td>\n",
              "      <td>Brooklyn</td>\n",
              "      <td>11237</td>\n",
              "    </tr>\n",
              "    <tr>\n",
              "      <th>12</th>\n",
              "      <td>13</td>\n",
              "      <td>January 05 2015</td>\n",
              "      <td>Shih Tzu</td>\n",
              "      <td>4</td>\n",
              "      <td>F</td>\n",
              "      <td>False</td>\n",
              "      <td>Brooklyn</td>\n",
              "      <td>11205</td>\n",
              "    </tr>\n",
              "    <tr>\n",
              "      <th>...</th>\n",
              "      <td>...</td>\n",
              "      <td>...</td>\n",
              "      <td>...</td>\n",
              "      <td>...</td>\n",
              "      <td>...</td>\n",
              "      <td>...</td>\n",
              "      <td>...</td>\n",
              "      <td>...</td>\n",
              "    </tr>\n",
              "    <tr>\n",
              "      <th>10264</th>\n",
              "      <td>10,265</td>\n",
              "      <td>December 13 2017</td>\n",
              "      <td>Pit Bull</td>\n",
              "      <td>6</td>\n",
              "      <td>F</td>\n",
              "      <td>False</td>\n",
              "      <td>Staten Island</td>\n",
              "      <td>10303</td>\n",
              "    </tr>\n",
              "    <tr>\n",
              "      <th>10265</th>\n",
              "      <td>10,266</td>\n",
              "      <td>December 14 2017</td>\n",
              "      <td>Pit Bull</td>\n",
              "      <td>NaN</td>\n",
              "      <td>U</td>\n",
              "      <td>False</td>\n",
              "      <td>Staten Island</td>\n",
              "      <td>NaN</td>\n",
              "    </tr>\n",
              "    <tr>\n",
              "      <th>10267</th>\n",
              "      <td>10,268</td>\n",
              "      <td>December 15 2017</td>\n",
              "      <td>Pit Bull</td>\n",
              "      <td>3</td>\n",
              "      <td>F</td>\n",
              "      <td>False</td>\n",
              "      <td>Staten Island</td>\n",
              "      <td>10301</td>\n",
              "    </tr>\n",
              "    <tr>\n",
              "      <th>10271</th>\n",
              "      <td>10,272</td>\n",
              "      <td>December 17 2017</td>\n",
              "      <td>Pit Bull</td>\n",
              "      <td>8</td>\n",
              "      <td>F</td>\n",
              "      <td>False</td>\n",
              "      <td>Staten Island</td>\n",
              "      <td>NaN</td>\n",
              "    </tr>\n",
              "    <tr>\n",
              "      <th>10274</th>\n",
              "      <td>10,275</td>\n",
              "      <td>December 21 2017</td>\n",
              "      <td>Pit Bull</td>\n",
              "      <td>1</td>\n",
              "      <td>M</td>\n",
              "      <td>False</td>\n",
              "      <td>Staten Island</td>\n",
              "      <td>10303</td>\n",
              "    </tr>\n",
              "  </tbody>\n",
              "</table>\n",
              "<p>3318 rows × 8 columns</p>\n",
              "</div>"
            ],
            "text/plain": [
              "      UniqueID        DateOfBite  ...        Borough ZipCode\n",
              "3            4   January 01 2015  ...       Brooklyn   11221\n",
              "4            5   January 03 2015  ...       Brooklyn   11207\n",
              "5            6   January 05 2015  ...       Brooklyn   11209\n",
              "7            8   January 05 2015  ...       Brooklyn   11237\n",
              "12          13   January 05 2015  ...       Brooklyn   11205\n",
              "...        ...               ...  ...            ...     ...\n",
              "10264   10,265  December 13 2017  ...  Staten Island   10303\n",
              "10265   10,266  December 14 2017  ...  Staten Island     NaN\n",
              "10267   10,268  December 15 2017  ...  Staten Island   10301\n",
              "10271   10,272  December 17 2017  ...  Staten Island     NaN\n",
              "10274   10,275  December 21 2017  ...  Staten Island   10303\n",
              "\n",
              "[3318 rows x 8 columns]"
            ]
          },
          "metadata": {
            "tags": []
          }
        }
      ]
    }
  ]
}